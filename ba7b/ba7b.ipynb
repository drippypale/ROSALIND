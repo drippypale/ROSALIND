{
 "cells": [
  {
   "attachments": {},
   "cell_type": "markdown",
   "metadata": {},
   "source": [
    "[Drippypale](https://github.com/drippypale/ROSALIND)  \n",
    "Email: drippypale@gmail.com  \n",
    "\n",
    "Problem: **[Compute Limb Lengths in a Tree](https://rosalind.info/problems/ba7b/)**"
   ]
  },
  {
   "cell_type": "code",
   "execution_count": 1,
   "metadata": {},
   "outputs": [],
   "source": [
    "import numpy as np"
   ]
  },
  {
   "cell_type": "code",
   "execution_count": 2,
   "metadata": {},
   "outputs": [],
   "source": [
    "def limb_length(dist_matrix, n, j):\n",
    "    min_length = np.inf\n",
    "\n",
    "    for i in range(n):\n",
    "        for k in range(n):\n",
    "            l = (dist_matrix[i][j] + dist_matrix[j][k] - dist_matrix[i][k])/2\n",
    "            if k != i and k != j and i != j and l < min_length:\n",
    "                min_length = l\n",
    "    return int(min_length)"
   ]
  },
  {
   "cell_type": "code",
   "execution_count": 5,
   "metadata": {},
   "outputs": [],
   "source": [
    "with open('ba7b.in', 'r') as f:\n",
    "    lines = f.read().splitlines()\n",
    "    n, j = int(lines[0]), int(lines[1])\n",
    "    dist_matrix = list()\n",
    "\n",
    "    for l in lines[2:]:\n",
    "        dist_matrix.extend([int(x) for x in l.split()])\n",
    "    \n",
    "    dist_matrix = np.array(dist_matrix, dtype=np.int64).reshape((n, n))"
   ]
  },
  {
   "cell_type": "code",
   "execution_count": 6,
   "metadata": {},
   "outputs": [
    {
     "data": {
      "text/plain": [
       "815"
      ]
     },
     "execution_count": 6,
     "metadata": {},
     "output_type": "execute_result"
    }
   ],
   "source": [
    "limb_length(dist_matrix, n, j)"
   ]
  }
 ],
 "metadata": {
  "kernelspec": {
   "display_name": "Python 3.10.8 ('python-ds')",
   "language": "python",
   "name": "python3"
  },
  "language_info": {
   "codemirror_mode": {
    "name": "ipython",
    "version": 3
   },
   "file_extension": ".py",
   "mimetype": "text/x-python",
   "name": "python",
   "nbconvert_exporter": "python",
   "pygments_lexer": "ipython3",
   "version": "3.10.8 | packaged by conda-forge | (main, Nov 22 2022, 08:25:13) [Clang 14.0.6 ]"
  },
  "orig_nbformat": 4,
  "vscode": {
   "interpreter": {
    "hash": "848286f6d0c15115c4f552ee58ed05e2f5e5c194f05d8972414da5d03f35ac53"
   }
  }
 },
 "nbformat": 4,
 "nbformat_minor": 2
}
