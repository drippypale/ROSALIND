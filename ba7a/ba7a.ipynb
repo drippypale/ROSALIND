{
 "cells": [
  {
   "attachments": {},
   "cell_type": "markdown",
   "metadata": {},
   "source": [
    "[Drippypale](https://github.com/drippypale/ROSALIND)  \n",
    "Email: drippypale@gmail.com  \n",
    "\n",
    "Problem: **[Compute Distances Between Leaves](https://rosalind.info/problems/ba7a/)**"
   ]
  },
  {
   "cell_type": "code",
   "execution_count": 1,
   "metadata": {},
   "outputs": [],
   "source": [
    "import numpy as np"
   ]
  },
  {
   "cell_type": "code",
   "execution_count": 2,
   "metadata": {},
   "outputs": [],
   "source": [
    "with open('ba7a.in', 'r') as f:\n",
    "    lines = f.read().splitlines()\n",
    "    n, adjacency_list = int(lines[0]), list()\n",
    "    for l in lines[1:]:\n",
    "        i, t = int(l.split('->')[0]), [int(x) for x in l.split('->')[1].split(':')]\n",
    "        j, w = t\n",
    "        try:\n",
    "            adjacency_list[i].append((j, w))\n",
    "        except IndexError:\n",
    "            t = len(adjacency_list) - i + 1\n",
    "            for ii in range(t):\n",
    "                adjacency_list.append([])\n",
    "            adjacency_list[i].append((j, w))"
   ]
  },
  {
   "cell_type": "code",
   "execution_count": 3,
   "metadata": {},
   "outputs": [],
   "source": [
    "import queue\n",
    "\n",
    "def dfs(node, adjacency_list):\n",
    "    stack = queue.LifoQueue()\n",
    "    result = list()\n",
    "    marked = np.zeros((len(adjacency_list)))\n",
    "\n",
    "    stack.put((0, node))\n",
    "\n",
    "    while not stack.empty():\n",
    "        dist, node = stack.get()\n",
    "        result.append((node, dist))\n",
    "        marked[node] = 1\n",
    "\n",
    "        t = [x for x in adjacency_list[node] if not marked[x[0]]]\n",
    "        for c in t:\n",
    "            stack.put((dist + c[1], c[0]))\n",
    "    \n",
    "    return result\n"
   ]
  },
  {
   "cell_type": "code",
   "execution_count": 4,
   "metadata": {},
   "outputs": [],
   "source": [
    "dist_matrix = np.zeros(shape=(n, n), dtype=np.int32)"
   ]
  },
  {
   "cell_type": "code",
   "execution_count": 5,
   "metadata": {},
   "outputs": [],
   "source": [
    "for node in range(n):\n",
    "    dist = [t for t in dfs(node, adjacency_list) if t[0] < n]\n",
    "    for c in dist:\n",
    "        dist_matrix[node, c[0]] = c[1]"
   ]
  },
  {
   "cell_type": "code",
   "execution_count": 6,
   "metadata": {},
   "outputs": [],
   "source": [
    "with open('ba7a.out', 'w') as f:\n",
    "    for i in range(n):\n",
    "        f.write(' '.join([str(x) for x in dist_matrix[i, :]]) + '\\n')"
   ]
  }
 ],
 "metadata": {
  "kernelspec": {
   "display_name": "Python 3.10.8 ('python-ds')",
   "language": "python",
   "name": "python3"
  },
  "language_info": {
   "codemirror_mode": {
    "name": "ipython",
    "version": 3
   },
   "file_extension": ".py",
   "mimetype": "text/x-python",
   "name": "python",
   "nbconvert_exporter": "python",
   "pygments_lexer": "ipython3",
   "version": "3.10.8"
  },
  "orig_nbformat": 4,
  "vscode": {
   "interpreter": {
    "hash": "848286f6d0c15115c4f552ee58ed05e2f5e5c194f05d8972414da5d03f35ac53"
   }
  }
 },
 "nbformat": 4,
 "nbformat_minor": 2
}
