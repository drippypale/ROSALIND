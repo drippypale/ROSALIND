{
 "cells": [
  {
   "attachments": {},
   "cell_type": "markdown",
   "metadata": {},
   "source": [
    "[Drippypale](https://github.com/drippypale/ROSALIND)  \n",
    "Email: drippypale@gmail.com  \n",
    "\n",
    "Problem: **[Genome Assembly Using Reads](https://rosalind.info/problems/gasm/)**"
   ]
  },
  {
   "cell_type": "code",
   "execution_count": 1,
   "metadata": {},
   "outputs": [],
   "source": [
    "with open('gasm.in', 'r') as f:\n",
    "    dna_strings = f.read().splitlines()"
   ]
  },
  {
   "cell_type": "code",
   "execution_count": 2,
   "metadata": {},
   "outputs": [],
   "source": [
    "comp = {\n",
    "    'A': 'T',\n",
    "    'T': 'A',\n",
    "    'C': 'G',\n",
    "    'G': 'C'\n",
    "}\n",
    "reverse_comp = lambda x: ''.join([comp[_] for _ in x[::-1]])"
   ]
  },
  {
   "cell_type": "code",
   "execution_count": 3,
   "metadata": {},
   "outputs": [],
   "source": [
    "dna_strings.extend([reverse_comp(_) for _ in dna_strings])\n",
    "\n",
    "dna_string = list(set(dna_strings))"
   ]
  },
  {
   "cell_type": "code",
   "execution_count": 4,
   "metadata": {},
   "outputs": [],
   "source": [
    "def de_bruijn(dna_string, k):\n",
    "    l = len(dna_string[0])\n",
    "    nodes = {}\n",
    "\n",
    "    for dna in dna_strings:\n",
    "        for i in range(l-k):\n",
    "            nodes[dna[i: i + k]] = dna[i + 1: i + k + 1]\n",
    "    return nodes"
   ]
  },
  {
   "cell_type": "code",
   "execution_count": 5,
   "metadata": {},
   "outputs": [],
   "source": [
    "def cyclic_super_string(dna_string):\n",
    "    for k in range(len(dna_string[0]) - 1, 1, -1):\n",
    "        nodes:dict = de_bruijn(dna_strings, k)\n",
    "        start = list(nodes.keys())[0]\n",
    "        kmer = start\n",
    "        super_string = ''\n",
    "\n",
    "        while True:\n",
    "            if kmer in nodes:\n",
    "                super_string += kmer[-1]\n",
    "                kmer = nodes.pop(kmer)\n",
    "                if kmer == start:\n",
    "                    return super_string\n",
    "            else:\n",
    "                break"
   ]
  },
  {
   "cell_type": "code",
   "execution_count": 6,
   "metadata": {},
   "outputs": [],
   "source": [
    "with open('gasm.out', 'w') as f:\n",
    "    f.write(cyclic_super_string(dna_string))"
   ]
  }
 ],
 "metadata": {
  "kernelspec": {
   "display_name": "python-ds",
   "language": "python",
   "name": "python3"
  },
  "language_info": {
   "codemirror_mode": {
    "name": "ipython",
    "version": 3
   },
   "file_extension": ".py",
   "mimetype": "text/x-python",
   "name": "python",
   "nbconvert_exporter": "python",
   "pygments_lexer": "ipython3",
   "version": "3.10.8 | packaged by conda-forge | (main, Nov 22 2022, 08:25:13) [Clang 14.0.6 ]"
  },
  "orig_nbformat": 4,
  "vscode": {
   "interpreter": {
    "hash": "848286f6d0c15115c4f552ee58ed05e2f5e5c194f05d8972414da5d03f35ac53"
   }
  }
 },
 "nbformat": 4,
 "nbformat_minor": 2
}
