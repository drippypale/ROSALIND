{
 "cells": [
  {
   "attachments": {},
   "cell_type": "markdown",
   "metadata": {},
   "source": [
    "[Drippypale](https://github.com/drippypale/ROSALIND)  \n",
    "Email: drippypale@gmail.com  \n",
    "\n",
    "Problem: **[Implement UPGMA](https://rosalind.info/problems/ba7d/)**"
   ]
  },
  {
   "cell_type": "code",
   "execution_count": 140,
   "metadata": {},
   "outputs": [],
   "source": [
    "import numpy as np"
   ]
  },
  {
   "cell_type": "code",
   "execution_count": 141,
   "metadata": {},
   "outputs": [],
   "source": [
    "with open('ba7d.in', 'r') as f:\n",
    "    lines = f.read().splitlines()\n",
    "    n = int(lines[0])\n",
    "    dist_matrix = list()\n",
    "    for l in lines[1:]:\n",
    "        dist_matrix.extend([int(x) for x in l.split()])\n",
    "    \n",
    "    dist_matrix = np.array(dist_matrix, dtype=np.float64).reshape((n, n))"
   ]
  },
  {
   "cell_type": "code",
   "execution_count": 142,
   "metadata": {},
   "outputs": [],
   "source": [
    "class Cluster:\n",
    "    \n",
    "    def __init__(self, ind, nodes: list = [], age = 0) -> None:\n",
    "        self.ind = ind\n",
    "        self.nodes = nodes\n",
    "        self.age = age\n",
    "\n",
    "    def add_nodes(self, nodes: list):\n",
    "        self.nodes.extend(nodes)"
   ]
  },
  {
   "cell_type": "code",
   "execution_count": 143,
   "metadata": {},
   "outputs": [],
   "source": [
    "def clusters_distance(dist_matrix, c1: Cluster, c2: Cluster):\n",
    "    dist = 0\n",
    "    for i in c1.nodes:\n",
    "        for j in c2.nodes:\n",
    "            dist += dist_matrix[i][j]\n",
    "    return dist / float(len(c1.nodes) * len(c2.nodes))"
   ]
  },
  {
   "cell_type": "code",
   "execution_count": 144,
   "metadata": {},
   "outputs": [],
   "source": [
    "from itertools import combinations\n",
    "def find_closest_clusters(dist_matrix, clusters: list[Cluster], current_clusters):\n",
    "    return min([(clusters_distance(dist_matrix, clusters[x[0]], clusters[x[1]]), x) for x in combinations(current_clusters, 2)],\n",
    "    key=lambda x: x[0])[1]"
   ]
  },
  {
   "cell_type": "code",
   "execution_count": 145,
   "metadata": {},
   "outputs": [],
   "source": [
    "new_cluster_index = n\n",
    "def merge_clusters(T, dist_matrix, clusters: dict[Cluster], current_clusters:list, i, j):\n",
    "    global new_cluster_index\n",
    "\n",
    "    # merge clusters i and j into a new cluster\n",
    "    new_cluster = Cluster(new_cluster_index,\n",
    "                            nodes=clusters[i].nodes + clusters[j].nodes,\n",
    "                            age=clusters_distance(dist_matrix, clusters[i], clusters[j]) / 2)\n",
    "\n",
    "    current_clusters.remove(i)\n",
    "    current_clusters.remove(j)\n",
    "    current_clusters.append(new_cluster_index)\n",
    "    clusters[new_cluster_index] = new_cluster\n",
    "\n",
    "    # add a new internal node to the Tree which connects i and j with the dist = Dci, Dcj / 2    \n",
    "    if T.get(new_cluster_index, False):\n",
    "        T[new_cluster_index][clusters[i].ind] = new_cluster.age - clusters[i].age\n",
    "        T[new_cluster_index][clusters[j].ind] = new_cluster.age - clusters[j].age\n",
    "    else:\n",
    "        T[new_cluster_index] = {\n",
    "            clusters[i].ind: new_cluster.age - clusters[i].age,\n",
    "            clusters[j].ind: new_cluster.age - clusters[j].age,\n",
    "            }\n",
    "    T[clusters[i].ind][new_cluster_index] = new_cluster.age - clusters[i].age\n",
    "    T[clusters[j].ind][new_cluster_index] = new_cluster.age - clusters[j].age\n",
    "\n",
    "    # compute the distances from the new cluster\n",
    "    new_distances = np.array([clusters_distance(dist_matrix, new_cluster, _) for _ in clusters.values()], dtype=np.float64)\n",
    "    dist_matrix = np.column_stack((np.row_stack((dist_matrix, [0 for _ in range(dist_matrix.shape[0])])), new_distances))\n",
    "    dist_matrix[-1, :] = new_distances\n",
    "\n",
    "    new_cluster_index += 1\n",
    "\n",
    "    return T, dist_matrix, clusters, current_clusters"
   ]
  },
  {
   "cell_type": "code",
   "execution_count": 146,
   "metadata": {},
   "outputs": [],
   "source": [
    "clusters = {i:Cluster(i, [i]) for i in range(dist_matrix.shape[0])} # key represents the index in the dist_matrix\n",
    "current_clusters = [i for i in range(dist_matrix.shape[0])]\n",
    "\n",
    "T = {\n",
    "    i:{} for i in range(dist_matrix.shape[0])\n",
    "}"
   ]
  },
  {
   "cell_type": "code",
   "execution_count": 147,
   "metadata": {},
   "outputs": [],
   "source": [
    "while len(current_clusters) > 1:\n",
    "    i, j = find_closest_clusters(dist_matrix, clusters, current_clusters)\n",
    "    T, dist_matrix, clusters, current_clusters = merge_clusters(T, dist_matrix, clusters, current_clusters, i, j)"
   ]
  },
  {
   "cell_type": "code",
   "execution_count": 148,
   "metadata": {},
   "outputs": [],
   "source": [
    "with open('ba7d.out', 'w') as f:\n",
    "    for i in sorted(T.keys()):\n",
    "            for j in sorted(T[i].keys()):\n",
    "                f.write(f'{i}->{j}:{T[i][j]:.3f}\\n')"
   ]
  }
 ],
 "metadata": {
  "kernelspec": {
   "display_name": "python-ds",
   "language": "python",
   "name": "python3"
  },
  "language_info": {
   "codemirror_mode": {
    "name": "ipython",
    "version": 3
   },
   "file_extension": ".py",
   "mimetype": "text/x-python",
   "name": "python",
   "nbconvert_exporter": "python",
   "pygments_lexer": "ipython3",
   "version": "3.10.8 | packaged by conda-forge | (main, Nov 22 2022, 08:25:13) [Clang 14.0.6 ]"
  },
  "orig_nbformat": 4,
  "vscode": {
   "interpreter": {
    "hash": "848286f6d0c15115c4f552ee58ed05e2f5e5c194f05d8972414da5d03f35ac53"
   }
  }
 },
 "nbformat": 4,
 "nbformat_minor": 2
}
