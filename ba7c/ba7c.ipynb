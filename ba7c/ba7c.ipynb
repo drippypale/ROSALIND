{
 "cells": [
  {
   "attachments": {},
   "cell_type": "markdown",
   "metadata": {},
   "source": [
    "[Drippypale](https://github.com/drippypale/ROSALIND)  \n",
    "Email: drippypale@gmail.com  \n",
    "\n",
    "Problem: **[Implement AdditivePhylogeny](https://rosalind.info/problems/ba7c/)**"
   ]
  },
  {
   "cell_type": "code",
   "execution_count": 1,
   "metadata": {},
   "outputs": [],
   "source": [
    "import numpy as np"
   ]
  },
  {
   "cell_type": "code",
   "execution_count": 2,
   "metadata": {},
   "outputs": [],
   "source": [
    "with open('ba7c.in', 'r') as f:\n",
    "    lines = f.read().splitlines()\n",
    "    n = int(lines[0])\n",
    "    dist_matrix = list()\n",
    "\n",
    "    for l in lines[1:]:\n",
    "        dist_matrix.extend([int(x) for x in l.split()])\n",
    "    \n",
    "    dist_matrix = np.array(dist_matrix, dtype=np.int64).reshape((n, n))"
   ]
  },
  {
   "attachments": {},
   "cell_type": "markdown",
   "metadata": {},
   "source": [
    "First we need to find the $\\delta$ value which we're going to reduce all the hanging edges by it. The `limb_length()` function will return the $\\delta$ value:"
   ]
  },
  {
   "cell_type": "code",
   "execution_count": 3,
   "metadata": {},
   "outputs": [],
   "source": [
    "def limb_length(dist_matrix, n, j):\n",
    "    min_length = np.inf\n",
    "\n",
    "    for i in range(n):\n",
    "        for k in range(n):\n",
    "            l = (dist_matrix[i][j] + dist_matrix[j][k] - dist_matrix[i][k])/2\n",
    "            if k != i and k != j and i != j and l < min_length:\n",
    "                min_length = l\n",
    "    return int(min_length)"
   ]
  },
  {
   "attachments": {},
   "cell_type": "markdown",
   "metadata": {},
   "source": [
    "Next step is to find a *degenerative* tirple $i, n, k$ which satisfies: $D_{in} + D_{nk} = D_{nk}$ so that the node $n$, can be removed:"
   ]
  },
  {
   "cell_type": "code",
   "execution_count": 4,
   "metadata": {},
   "outputs": [],
   "source": [
    "import itertools\n",
    "\n",
    "def find_degenerative_triple(dist_matrix):\n",
    "    n = dist_matrix.shape[0]\n",
    "    cn_list = itertools.combinations(range(n), 2)\n",
    "    for i, k in cn_list:\n",
    "        if dist_matrix[i, k] == dist_matrix[i, n - 1] + dist_matrix[n - 1, k]:\n",
    "            return i, k\n",
    "    # for k in range(dist_matrix.shape[0]-1):\n",
    "    #     arr = dist_matrix[k] - dist_matrix[-1]\n",
    "    #     index = np.where(arr == dist_matrix[k, -1])\n",
    "    #     if len(index[0]) > 0:\n",
    "    #         return (index[0][0], k)\n",
    "    # return None"
   ]
  },
  {
   "attachments": {},
   "cell_type": "markdown",
   "metadata": {},
   "source": [
    "Also we need to save the $X = D_{in}$ value for reconstructing the tree."
   ]
  },
  {
   "attachments": {},
   "cell_type": "markdown",
   "metadata": {},
   "source": [
    "After removing the $n-th$ column and row, and constructing the tree for the reduced matrix(by calling the `additive_phylogeny()` for the reduced matrix which we will see in a second), we will try to find the proper spot to insert (if needed) the removed node. By proper spot I mean ***a spot on the $i-k$ path, and with a $distance = X$ from the $i$ leaf***.    \n",
    "\n",
    "So wee need to find the **$i-k$** path first, and then find that spot we already talked:"
   ]
  },
  {
   "cell_type": "code",
   "execution_count": 5,
   "metadata": {},
   "outputs": [],
   "source": [
    "from queue import LifoQueue\n",
    "\n",
    "'''\n",
    "Given the Tree(T) and the nodes i and k,\n",
    "returns the path from i to k.\n",
    "'''\n",
    "def dfs_find_path(T, i, k):\n",
    "    marked = list()\n",
    "    stack = LifoQueue()\n",
    "\n",
    "    stack.put([i]) # the stack contains the path to the node + node itself\n",
    "\n",
    "    while not stack.empty():\n",
    "        pi = stack.get() \n",
    "        x = pi[-1]\n",
    "        marked.append(x)\n",
    "        if x == k:\n",
    "            return pi\n",
    "        t = [_ for _ in T[x].keys() if not _ in marked]\n",
    "        for c in t:\n",
    "            stack.put(pi + [c])\n"
   ]
  },
  {
   "attachments": {},
   "cell_type": "markdown",
   "metadata": {},
   "source": [
    "As we discussed, the `find_x()` will return the spot to inset the removed node:"
   ]
  },
  {
   "cell_type": "code",
   "execution_count": 6,
   "metadata": {},
   "outputs": [],
   "source": [
    "'''\n",
    "Given the Tree(T), and the distance x, and the path i-k,\n",
    "this will return the closest a, b which a distance = x, lies in between them (this is the spot for the removed node).\n",
    "also returns the (x - dist[a, i]) and the ()\n",
    "'''\n",
    "def find_x(T, x, path):\n",
    "    dist = 0\n",
    "    for k in range(1, len(path)):\n",
    "        a, b = path[k - 1], path[k]\n",
    "        if dist + T[a][b] > x:\n",
    "            return a, b, x - dist, (dist + T[a][b]) - x\n",
    "        dist += T[a][b]"
   ]
  },
  {
   "attachments": {},
   "cell_type": "markdown",
   "metadata": {},
   "source": [
    "Now it's time to combine the above steps, all in a recursive function called `additive_phylogeny()`:"
   ]
  },
  {
   "cell_type": "code",
   "execution_count": 7,
   "metadata": {},
   "outputs": [],
   "source": [
    "import itertools\n",
    "\n",
    "next_node_index = n # holds the index of the next inner node\n",
    "\n",
    "def additive_phylogeny(dist_matrix, n):\n",
    "\n",
    "    if n == 2: # if it's only 2 nodes, just connect them with an edge, and return the tree\n",
    "        T = {\n",
    "            0: {\n",
    "                1: dist_matrix[0][1]\n",
    "                },\n",
    "            1: {\n",
    "                0: dist_matrix[1][0]\n",
    "                }\n",
    "        }\n",
    "        return T\n",
    "    \n",
    "    # 1. reduce all the hanging edges by limb_length\n",
    "    delta = limb_length(dist_matrix, n, n - 1)\n",
    "    dist_matrix[:-1, -1] -= delta\n",
    "    dist_matrix[-1, :-1] -= delta\n",
    "    \n",
    "    # 2. find the degenerate triple i, n, k\n",
    "    i, k = find_degenerative_triple(dist_matrix)\n",
    "    # 2.1 store the D[i, n] to reconstruct the tree\n",
    "    x = dist_matrix[i, n - 1]\n",
    "\n",
    "    # 3. remove the n-th column and row. and build the tree for the reduced matrix\n",
    "    T: dict[dict] = additive_phylogeny(dist_matrix[:n - 1, :n - 1], n - 1)\n",
    "\n",
    "    # 4. find the spot of the removed node to place it back\n",
    "    # 4.1 find the path between i-k first\n",
    "    i_k__path = dfs_find_path(T, i, k)\n",
    "\n",
    "    # 4.2 find the proper spot on the path:\n",
    "    i_a, b_k, i__x, x__k = find_x(T, x, i_k__path) # the path is smt like: i---a-------b---k\n",
    "    new_node = i_a\n",
    "\n",
    "    # 5. check if we need to insert a new node for the removed one\n",
    "    if i__x != 0:\n",
    "        global next_node_index\n",
    "\n",
    "        new_node = next_node_index\n",
    "        next_node_index += 1\n",
    "\n",
    "        # remove edges between a and b\n",
    "        del T[i_a][b_k]\n",
    "        del T[b_k][i_a]\n",
    "\n",
    "        # insert new_node between a and b with the distance i__x from the a, and x__k from the b\n",
    "        T[new_node] = dict()\n",
    "        \n",
    "        T[i_a][new_node] = i__x\n",
    "        T[new_node][i_a] = i__x\n",
    "\n",
    "        T[b_k][new_node] = x__k\n",
    "        T[new_node][b_k] = x__k\n",
    "\n",
    "    # 6. add leaf n back to T by creating a limb (v, n) of length limbLength\n",
    "    T[n - 1] = dict()\n",
    "    \n",
    "    T[new_node][n - 1] = delta\n",
    "    T[n - 1][new_node] = delta\n",
    "    return T\n",
    "    \n",
    "    "
   ]
  },
  {
   "cell_type": "code",
   "execution_count": 8,
   "metadata": {},
   "outputs": [],
   "source": [
    "T = additive_phylogeny(dist_matrix, n)"
   ]
  },
  {
   "cell_type": "code",
   "execution_count": 9,
   "metadata": {},
   "outputs": [],
   "source": [
    "with open('ba7c.out', 'w') as f:\n",
    "    for i in sorted(T.keys()):\n",
    "            for j in sorted(T[i].keys()):\n",
    "                f.write(f'{i}->{j}:{T[i][j]}\\n')"
   ]
  }
 ],
 "metadata": {
  "kernelspec": {
   "display_name": "Python 3.10.8 ('python-ds')",
   "language": "python",
   "name": "python3"
  },
  "language_info": {
   "codemirror_mode": {
    "name": "ipython",
    "version": 3
   },
   "file_extension": ".py",
   "mimetype": "text/x-python",
   "name": "python",
   "nbconvert_exporter": "python",
   "pygments_lexer": "ipython3",
   "version": "3.10.8"
  },
  "orig_nbformat": 4,
  "vscode": {
   "interpreter": {
    "hash": "848286f6d0c15115c4f552ee58ed05e2f5e5c194f05d8972414da5d03f35ac53"
   }
  }
 },
 "nbformat": 4,
 "nbformat_minor": 2
}
