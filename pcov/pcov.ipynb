{
 "cells": [
  {
   "attachments": {},
   "cell_type": "markdown",
   "metadata": {},
   "source": [
    "[Drippypale](https://github.com/drippypale/ROSALIND)  \n",
    "Email: drippypale@gmail.com  \n",
    "\n",
    "Problem: **[Genome Assembly with Perfect Coverage](https://rosalind.info/problems/pcov/)**"
   ]
  },
  {
   "cell_type": "code",
   "execution_count": 1,
   "metadata": {},
   "outputs": [],
   "source": [
    "with open('pcov.in', 'r') as f:\n",
    "    dna_strings = f.read().splitlines()"
   ]
  },
  {
   "cell_type": "code",
   "execution_count": 2,
   "metadata": {},
   "outputs": [],
   "source": [
    "nodes = kmers = {}"
   ]
  },
  {
   "cell_type": "code",
   "execution_count": 3,
   "metadata": {},
   "outputs": [],
   "source": [
    "for dna in dna_strings:\n",
    "    kmers[dna[:-1]] = kmers.get(dna[:-1], [])\n",
    "    kmers[dna[1:]] = kmers.get(dna[1:], [])\n",
    "    kmers[dna[:-1]].append(dna)\n",
    "    kmers[dna[1:]].append(dna)"
   ]
  },
  {
   "cell_type": "code",
   "execution_count": 4,
   "metadata": {},
   "outputs": [],
   "source": [
    "for kmer, dna_list in kmers.items():\n",
    "    for dna in dna_list:\n",
    "        for k in (dna[:-1], dna[1:]):\n",
    "            if k[:-1] == kmer[1:]:\n",
    "                nodes[kmer] = k"
   ]
  },
  {
   "cell_type": "code",
   "execution_count": 5,
   "metadata": {},
   "outputs": [],
   "source": [
    "start = super_string = list(nodes.keys())[0]\n",
    "current = nodes[start]\n",
    "\n",
    "while current != start:\n",
    "    super_string += current[-1]\n",
    "    current = nodes[current]"
   ]
  },
  {
   "cell_type": "code",
   "execution_count": 6,
   "metadata": {},
   "outputs": [],
   "source": [
    "for i in range(len(super_string) // 2, len(super_string)):\n",
    "    if super_string[i:] == super_string[:len(super_string)-i]:\n",
    "        super_string = super_string[:i]\n",
    "        break"
   ]
  },
  {
   "cell_type": "code",
   "execution_count": 7,
   "metadata": {},
   "outputs": [],
   "source": [
    "with open('pcov.out', 'w') as f:\n",
    "    f.write(super_string)"
   ]
  }
 ],
 "metadata": {
  "kernelspec": {
   "display_name": "python-ds",
   "language": "python",
   "name": "python3"
  },
  "language_info": {
   "codemirror_mode": {
    "name": "ipython",
    "version": 3
   },
   "file_extension": ".py",
   "mimetype": "text/x-python",
   "name": "python",
   "nbconvert_exporter": "python",
   "pygments_lexer": "ipython3",
   "version": "3.10.8"
  },
  "orig_nbformat": 4,
  "vscode": {
   "interpreter": {
    "hash": "848286f6d0c15115c4f552ee58ed05e2f5e5c194f05d8972414da5d03f35ac53"
   }
  }
 },
 "nbformat": 4,
 "nbformat_minor": 2
}
