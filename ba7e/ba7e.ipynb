{
 "cells": [
  {
   "attachments": {},
   "cell_type": "markdown",
   "metadata": {},
   "source": [
    "[Drippypale](https://github.com/drippypale/ROSALIND)  \n",
    "Email: drippypale@gmail.com  \n",
    "\n",
    "Problem: **[Implement the Neighbor Joining Algorithm](https://rosalind.info/problems/ba7d/)**"
   ]
  },
  {
   "cell_type": "code",
   "execution_count": 311,
   "metadata": {},
   "outputs": [],
   "source": [
    "import numpy as np"
   ]
  },
  {
   "cell_type": "code",
   "execution_count": 312,
   "metadata": {},
   "outputs": [],
   "source": [
    "with open('ba7e.in', 'r') as f:\n",
    "    lines = f.read().splitlines()\n",
    "    n = int(lines[0])\n",
    "    dist_matrix = list()\n",
    "\n",
    "    for l in lines[1:]:\n",
    "        dist_matrix.extend([int(x) for x in l.split()])\n",
    "    \n",
    "    dist_matrix = np.array(dist_matrix, dtype=np.int64).reshape((n, n))"
   ]
  },
  {
   "cell_type": "code",
   "execution_count": 313,
   "metadata": {},
   "outputs": [],
   "source": [
    "def total_distance(dist_matrix, i):\n",
    "    return np.sum(dist_matrix[i])"
   ]
  },
  {
   "attachments": {},
   "cell_type": "markdown",
   "metadata": {},
   "source": [
    "the `to_Dstar()` function will calculate the $D^*$ matrix from the given $D$ matrix which is the distance matrix:"
   ]
  },
  {
   "cell_type": "code",
   "execution_count": 314,
   "metadata": {},
   "outputs": [],
   "source": [
    "def to_Dstar(dist_matrix, n):\n",
    "    n = dist_matrix.shape[0]\n",
    "    Dstar = np.zeros(shape=dist_matrix.shape)\n",
    "    for ind, x in np.ndenumerate(dist_matrix):\n",
    "        if ind[0] == ind[1]:\n",
    "            continue\n",
    "        Dstar[ind]  = (n - 2) * dist_matrix[ind] - total_distance(dist_matrix, ind[0]) - total_distance(dist_matrix, ind[1])\n",
    "    return Dstar"
   ]
  },
  {
   "cell_type": "code",
   "execution_count": 315,
   "metadata": {},
   "outputs": [],
   "source": [
    "def arg_min(dist_matrix):\n",
    "    ind_, min_dist = None, np.inf\n",
    "    for ind, x in np.ndenumerate(dist_matrix):\n",
    "        if ind[0] != ind[1] and x < min_dist:\n",
    "            ind_, min_dist = ind, x\n",
    "    return ind_"
   ]
  },
  {
   "cell_type": "code",
   "execution_count": 316,
   "metadata": {},
   "outputs": [],
   "source": [
    "def delta(dist_matrix, i, j, n):\n",
    "    return (total_distance(dist_matrix, i) - total_distance(dist_matrix, j)) / (n - 2)"
   ]
  },
  {
   "cell_type": "code",
   "execution_count": 317,
   "metadata": {},
   "outputs": [],
   "source": [
    "def limb_length(dist_matrix, i, j, n):\n",
    "    delta_ij = delta(dist_matrix, i, j, n)\n",
    "    return (dist_matrix[i, j] + delta_ij) / 2, (dist_matrix[i, j] - delta_ij) / 2"
   ]
  },
  {
   "cell_type": "code",
   "execution_count": 318,
   "metadata": {},
   "outputs": [],
   "source": [
    "def join_i_j(dist_matrix, i, j):\n",
    "    Dprime = np.copy(dist_matrix)\n",
    "    Dprime = np.delete(Dprime, (max(i, j)), axis=0)\n",
    "    Dprime = np.delete(Dprime, (min(i, j)), axis=0)\n",
    "    Dprime = np.delete(Dprime, (max(i, j)), axis=1)\n",
    "    Dprime = np.delete(Dprime, (min(i, j)), axis=1)\n",
    "\n",
    "    new_distances = []\n",
    "    for k in range(dist_matrix.shape[0]):\n",
    "        if k in (i, j):\n",
    "            continue\n",
    "        new_distances.append((dist_matrix[i, k] + dist_matrix[j, k] - dist_matrix[i, j]) / 2)\n",
    "    \n",
    "    return np.column_stack((np.row_stack((Dprime, new_distances)), new_distances + [0]))\n"
   ]
  },
  {
   "cell_type": "code",
   "execution_count": 319,
   "metadata": {},
   "outputs": [],
   "source": [
    "remaining_nodes = [i for i in range(n)]"
   ]
  },
  {
   "cell_type": "code",
   "execution_count": 320,
   "metadata": {},
   "outputs": [],
   "source": [
    "def neighbor_joining(D, n, remaining_nodes: list, m):\n",
    "    if n == 2:\n",
    "        T = {\n",
    "            remaining_nodes[0]: {remaining_nodes[1]: D[0, 1]},\n",
    "            remaining_nodes[1]: {remaining_nodes[0]: D[1, 0]}\n",
    "        }\n",
    "        return T\n",
    "    Dstar = to_Dstar(D, n)\n",
    "    i, j = arg_min(Dstar)\n",
    "    limb_length_i, limb_length_j = limb_length(D, i, j, n)\n",
    "    Dprime = join_i_j(D, i, j)\n",
    "\n",
    "    ii, jj = remaining_nodes[i], remaining_nodes[j]\n",
    "    remaining_nodes.remove(ii)\n",
    "    remaining_nodes.remove(jj)\n",
    "    remaining_nodes.append(m)\n",
    "\n",
    "    T = neighbor_joining(Dprime, n - 1, remaining_nodes, m + 1)\n",
    "\n",
    "    if T.get(ii, False):\n",
    "        T[ii][m] = limb_length_i\n",
    "    else:\n",
    "        T[ii] = {m: limb_length_i}\n",
    "    if T.get(jj, False):\n",
    "        T[jj][m] = limb_length_j\n",
    "    else:\n",
    "        T[jj] = {m: limb_length_j}\n",
    "    if T.get(m, False):\n",
    "        T[m][ii] = limb_length_i\n",
    "        T[m][jj] = limb_length_j\n",
    "    else:\n",
    "        T[m] = {\n",
    "            ii: limb_length_i,\n",
    "            jj: limb_length_j\n",
    "        }\n",
    "\n",
    "    return T\n"
   ]
  },
  {
   "cell_type": "code",
   "execution_count": 321,
   "metadata": {},
   "outputs": [],
   "source": [
    "T = neighbor_joining(dist_matrix, n, remaining_nodes, m = n)"
   ]
  },
  {
   "cell_type": "code",
   "execution_count": 322,
   "metadata": {},
   "outputs": [],
   "source": [
    "with open('ba7e.out', 'w') as f:\n",
    "    for i in sorted(T.keys()):\n",
    "        for j in sorted(T[i].keys()):\n",
    "            f.write(f'{i}->{j}:{T[i][j]:.3f}\\n')"
   ]
  }
 ],
 "metadata": {
  "kernelspec": {
   "display_name": "python-ds",
   "language": "python",
   "name": "python3"
  },
  "language_info": {
   "codemirror_mode": {
    "name": "ipython",
    "version": 3
   },
   "file_extension": ".py",
   "mimetype": "text/x-python",
   "name": "python",
   "nbconvert_exporter": "python",
   "pygments_lexer": "ipython3",
   "version": "3.10.8 | packaged by conda-forge | (main, Nov 22 2022, 08:25:13) [Clang 14.0.6 ]"
  },
  "orig_nbformat": 4,
  "vscode": {
   "interpreter": {
    "hash": "848286f6d0c15115c4f552ee58ed05e2f5e5c194f05d8972414da5d03f35ac53"
   }
  }
 },
 "nbformat": 4,
 "nbformat_minor": 2
}
