{
 "cells": [
  {
   "attachments": {},
   "cell_type": "markdown",
   "metadata": {},
   "source": [
    "[Drippypale](https://github.com/drippypale/ROSALIND)  \n",
    "Email: drippypale@gmail.com  \n",
    "\n",
    "Problem: **[Constructing a De Bruijn Graph](https://rosalind.info/problems/dbru/)**"
   ]
  },
  {
   "cell_type": "code",
   "execution_count": 1,
   "metadata": {},
   "outputs": [],
   "source": [
    "with open('dbru.in', 'r') as f:\n",
    "    dna_strings = f.read().splitlines()"
   ]
  },
  {
   "cell_type": "code",
   "execution_count": 2,
   "metadata": {},
   "outputs": [],
   "source": [
    "comp = {\n",
    "    'A': 'T',\n",
    "    'T': 'A',\n",
    "    'C': 'G',\n",
    "    'G': 'C'\n",
    "}\n",
    "reverse_comp = lambda x: ''.join([comp[_] for _ in x[::-1]])"
   ]
  },
  {
   "cell_type": "code",
   "execution_count": 3,
   "metadata": {},
   "outputs": [],
   "source": [
    "dna_strings.extend([reverse_comp(_) for _ in dna_strings])\n",
    "\n",
    "dna_strings = list(set(dna_strings))"
   ]
  },
  {
   "cell_type": "code",
   "execution_count": 4,
   "metadata": {},
   "outputs": [],
   "source": [
    "nodes = {}"
   ]
  },
  {
   "cell_type": "code",
   "execution_count": 5,
   "metadata": {},
   "outputs": [],
   "source": [
    "for dna in dna_strings:\n",
    "    nodes[dna[:-1]] = nodes.get(dna[:-1], [])\n",
    "    if dna[1:] not in nodes[dna[:-1]]:\n",
    "        nodes[dna[:-1]].append(dna[1:])"
   ]
  },
  {
   "cell_type": "code",
   "execution_count": 6,
   "metadata": {},
   "outputs": [],
   "source": [
    "with open('dbru.out', 'w') as f:\n",
    "    for node, children in nodes.items():\n",
    "        for c in children:\n",
    "            f.write(f'({node}, {c})\\n')"
   ]
  }
 ],
 "metadata": {
  "kernelspec": {
   "display_name": "python-ds",
   "language": "python",
   "name": "python3"
  },
  "language_info": {
   "codemirror_mode": {
    "name": "ipython",
    "version": 3
   },
   "file_extension": ".py",
   "mimetype": "text/x-python",
   "name": "python",
   "nbconvert_exporter": "python",
   "pygments_lexer": "ipython3",
   "version": "3.10.8 | packaged by conda-forge | (main, Nov 22 2022, 08:25:13) [Clang 14.0.6 ]"
  },
  "orig_nbformat": 4,
  "vscode": {
   "interpreter": {
    "hash": "848286f6d0c15115c4f552ee58ed05e2f5e5c194f05d8972414da5d03f35ac53"
   }
  }
 },
 "nbformat": 4,
 "nbformat_minor": 2
}
