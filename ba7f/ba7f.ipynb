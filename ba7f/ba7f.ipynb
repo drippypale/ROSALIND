{
 "cells": [
  {
   "attachments": {},
   "cell_type": "markdown",
   "metadata": {},
   "source": [
    "[Drippypale](https://github.com/drippypale/ROSALIND)  \n",
    "Email: drippypale@gmail.com  \n",
    "\n",
    "Problem: **[Implement SmallParsimony](https://rosalind.info/problems/ba7f/)**"
   ]
  },
  {
   "cell_type": "code",
   "execution_count": 265,
   "metadata": {},
   "outputs": [],
   "source": [
    "nodes = {} # our tree\n",
    "seq_list = []"
   ]
  },
  {
   "cell_type": "code",
   "execution_count": 266,
   "metadata": {},
   "outputs": [],
   "source": [
    "def haming_distance(s1, s2):\n",
    "    return sum([s1[i] != s2[i] for i in range(len(s1))])"
   ]
  },
  {
   "cell_type": "code",
   "execution_count": 267,
   "metadata": {},
   "outputs": [],
   "source": [
    "class Node:\n",
    "    def __init__(self, value):\n",
    "        self.value = value if not value.isnumeric() else ''\n",
    "        self.children = list()\n",
    "        self.parent = None\n",
    "        self.is_leaf = False\n",
    "        self.s = dict()\n",
    "        self.tag = 0\n",
    "        self.back_track = dict()\n",
    "\n",
    "    def is_ripe(self):\n",
    "        return self.children[0].tag == self.children[1].tag == 1 and self.tag == 0\n",
    "    \n",
    "    def print(self):\n",
    "        res = list()\n",
    "        if self.parent is not None:\n",
    "            res.append(f'{self.value}->{self.parent.value}:{haming_distance(self.value, self.parent.value)}')\n",
    "        for c in self.children:\n",
    "            res.append(f'{self.value}->{c.value}:{haming_distance(self.value, c.value)}')\n",
    "            res.extend(c.print())\n",
    "        return res\n",
    "\n"
   ]
  },
  {
   "cell_type": "code",
   "execution_count": 268,
   "metadata": {},
   "outputs": [],
   "source": [
    "with open('ba7f.in', 'r') as f:\n",
    "    lines = f.read().splitlines()\n",
    "    n = int(lines[0])\n",
    "    for l in lines[1:]:\n",
    "        n1, n2 = l.split('->')\n",
    "        nodes[n1] = nodes.get(n1, Node(value=n1))\n",
    "        nodes[n2] = nodes.get(n2, Node(value=n2))\n",
    "\n",
    "        nodes[n1].children.append(nodes[n2])\n",
    "        nodes[n2].parent = nodes[n1]\n",
    "    \n",
    "        if not n2.isnumeric():\n",
    "            seq_list.append(n2)\n",
    "            nodes[n2].is_leaf = True"
   ]
  },
  {
   "cell_type": "code",
   "execution_count": 269,
   "metadata": {},
   "outputs": [],
   "source": [
    "root = max([_ for _ in nodes.items() if _[0].isnumeric()])[1]"
   ]
  },
  {
   "cell_type": "code",
   "execution_count": 270,
   "metadata": {},
   "outputs": [],
   "source": [
    "m = len(seq_list[0])"
   ]
  },
  {
   "cell_type": "code",
   "execution_count": 271,
   "metadata": {},
   "outputs": [],
   "source": [
    "def back_track(node: Node, k):\n",
    "    node.value += k\n",
    "    for i, c in enumerate(node.children):\n",
    "        if not c.is_leaf:\n",
    "            back_track(c, node.back_track[k][i])"
   ]
  },
  {
   "cell_type": "code",
   "execution_count": 272,
   "metadata": {},
   "outputs": [],
   "source": [
    "internal_nodes = [node for node in nodes.values() if not node.is_leaf]"
   ]
  },
  {
   "cell_type": "code",
   "execution_count": 273,
   "metadata": {},
   "outputs": [],
   "source": [
    "import math\n",
    "\n",
    "get_ripe_nodes = lambda: [node for node in internal_nodes if node.is_ripe()]\n",
    "\n",
    "total_parsimony_score = 0\n",
    "\n",
    "for i in range(m):\n",
    "    for node in nodes.values():\n",
    "        node.tag = 1 if node.is_leaf else 0\n",
    "        if node.is_leaf:\n",
    "            node.s = {k: 0 if node.value[i] == k else math.inf for k in 'ACTG'}\n",
    "\n",
    "    while len(get_ripe_nodes()) > 0:\n",
    "        v: Node = get_ripe_nodes()[0]\n",
    "        v.tag = 1\n",
    "        for k in 'ACTG':\n",
    "            left_min = min([(v.children[0].s[_] + int(_ != k), _) for _ in 'ACTG'], key=lambda x: x[0])\n",
    "            right_min = min([(v.children[1].s[_] + int(_ != k), _) for _ in 'ACTG'], key=lambda x: x[0])\n",
    "            v.s[k] = left_min[0] + right_min[0]\n",
    "            v.back_track[k] = (left_min[1], right_min[1])\n",
    "    \n",
    "    min_ = min(list(root.s.items()), key=lambda x: x[1])\n",
    "\n",
    "    total_parsimony_score += min_[1]\n",
    "    back_track(root, min_[0])\n",
    "          "
   ]
  },
  {
   "cell_type": "code",
   "execution_count": 274,
   "metadata": {},
   "outputs": [],
   "source": [
    "with open('ba7f.out', 'w') as f:\n",
    "    f.write(str(total_parsimony_score) + '\\n')\n",
    "    for l in root.print():\n",
    "        f.write(l + '\\n')"
   ]
  }
 ],
 "metadata": {
  "kernelspec": {
   "display_name": "python-ds",
   "language": "python",
   "name": "python3"
  },
  "language_info": {
   "codemirror_mode": {
    "name": "ipython",
    "version": 3
   },
   "file_extension": ".py",
   "mimetype": "text/x-python",
   "name": "python",
   "nbconvert_exporter": "python",
   "pygments_lexer": "ipython3",
   "version": "3.10.8"
  },
  "orig_nbformat": 4,
  "vscode": {
   "interpreter": {
    "hash": "848286f6d0c15115c4f552ee58ed05e2f5e5c194f05d8972414da5d03f35ac53"
   }
  }
 },
 "nbformat": 4,
 "nbformat_minor": 2
}
